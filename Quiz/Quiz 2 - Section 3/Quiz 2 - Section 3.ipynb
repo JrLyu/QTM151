{
 "cells": [
  {
   "attachments": {},
   "cell_type": "markdown",
   "metadata": {},
   "source": [
    "# <span style=\"color:darkblue\"> QTM 151 - Quiz 2 </span>"
   ]
  },
  {
   "attachments": {},
   "cell_type": "markdown",
   "metadata": {},
   "source": [
    "## Try to submit as an HTML file"
   ]
  },
  {
   "attachments": {},
   "cell_type": "markdown",
   "metadata": {},
   "source": [
    "<font size=\"5\"> \n",
    "\n",
    "Print your name below"
   ]
  },
  {
   "cell_type": "code",
   "execution_count": 1,
   "metadata": {},
   "outputs": [
    {
     "name": "stdout",
     "output_type": "stream",
     "text": [
      "Jiuru Lyu\n"
     ]
    }
   ],
   "source": [
    "# Write your answer here\n",
    "\n",
    "print(\"Jiuru Lyu\")"
   ]
  },
  {
   "attachments": {},
   "cell_type": "markdown",
   "metadata": {},
   "source": [
    "<font size = \"5\" >\n",
    "This quiz is open book \n",
    "\n",
    "- You can use the lecture notes\n",
    "- You will get partial credit for attempting the questions\n",
    "- To get full credit, the code should run as intended\n",
    "- You should <span style=\"color:red\"> NOT </span> communicate with other students\n",
    "\n",
    "Print the following message: <br>\n",
    "\n",
    "\"I will abide by Emory's code of conduct\"\n"
   ]
  },
  {
   "cell_type": "code",
   "execution_count": 2,
   "metadata": {},
   "outputs": [
    {
     "name": "stdout",
     "output_type": "stream",
     "text": [
      "I will abide by Emory's code of conduct.\n"
     ]
    }
   ],
   "source": [
    "# Write your answer here:\n",
    "\n",
    "print(\"I will abide by Emory's code of conduct.\")"
   ]
  },
  {
   "attachments": {},
   "cell_type": "markdown",
   "metadata": {},
   "source": [
    "<font size = \"5\">\n",
    "\n",
    "Import the libraries \"numpy\", \"matplotlib.pyplot\", and \"pandas\""
   ]
  },
  {
   "cell_type": "code",
   "execution_count": 3,
   "metadata": {},
   "outputs": [],
   "source": [
    "# Write your answer here\n",
    "\n",
    "import numpy as np\n",
    "import matplotlib.pyplot as plt\n",
    "import pandas as pd"
   ]
  },
  {
   "attachments": {},
   "cell_type": "markdown",
   "metadata": {},
   "source": [
    "<font size = \"5\">\n",
    "\n",
    "Import the dataset \"data_quiz/fifa23_players_basic.csv\"\n",
    "\n",
    "- It's a dataset on professional soccer players\n",
    "- Rows correspond to players (18,539)\n",
    "- Columns contain attributes of players (32)\n",
    "- Try to view the dataset before starting"
   ]
  },
  {
   "cell_type": "code",
   "execution_count": 7,
   "metadata": {},
   "outputs": [],
   "source": [
    "# Write your own code\n",
    "\n",
    "fifa23_players = pd.read_csv(\"data_quiz/fifa23_players_basic.csv\")"
   ]
  },
  {
   "attachments": {},
   "cell_type": "markdown",
   "metadata": {},
   "source": [
    "<font size = \"5\">\n",
    "\n",
    "(a) Create a function and apply it to a column <br>\n",
    "\n",
    "<font size = \"3\">\n",
    "\n",
    "Step 1:\n",
    "- Define a function with a parameter \"age_player\"\n",
    "- If \"age_player < 20\", status = \"Less than 20\"\n",
    "- If \"age_player >= 20\", status = \"20 or older\"\n",
    "- The function returns \"status\"\n",
    "\n",
    "Step 2:\n",
    "- Extract the column \"Age\" in the dataset <br>\n",
    "(be carefeful to write the \"A\" capitalized)\n",
    "- Create a new variable called \"age_bracket\" <br>\n",
    "to assign each player to the correct age bracket\n",
    "\n",
    "HINT: Use the \".apply()\" function"
   ]
  },
  {
   "cell_type": "code",
   "execution_count": 21,
   "metadata": {},
   "outputs": [],
   "source": [
    "# Write your own code\n",
    "\n",
    "def player_status(age_player):\n",
    "    '''\n",
    "    This function will return a text string to describe the age of the players.\n",
    "    \n",
    "    Input: \n",
    "        age_player: The age of the players\n",
    "        \n",
    "    Output: \n",
    "        status: A text striing describe the age of the players (less than 20 or above 20)\n",
    "    '''\n",
    "    \n",
    "    if age_player < 20:\n",
    "        status = \"Less than 20\"\n",
    "    else:\n",
    "        status = \"20 or older\"\n",
    "    \n",
    "    return status\n",
    "\n",
    "fifa23_players[\"age_bracket\"] = fifa23_players[\"Age\"].apply(player_status)"
   ]
  },
  {
   "attachments": {},
   "cell_type": "markdown",
   "metadata": {},
   "source": [
    "<font size = \"5\">\n",
    "\n",
    "(b) Use queries + global variables\n",
    "\n",
    "<font size = \"3\">\n",
    "\n",
    "- Compute the mean of the column \"Value(in Euro)\" <br>\n",
    "and store it as a variable\n",
    "- Subset the players whose value is above the mean value <br>\n",
    "  using \".query()\"\n",
    "\n",
    "\n",
    "HINT: Remember that there is a special syntax for <br>\n",
    "when the column names have spaces (see Lecture 10) <br>\n",
    "Reference the column as ``` `Value(in Euro)`    ``` inside .query()"
   ]
  },
  {
   "cell_type": "code",
   "execution_count": 10,
   "metadata": {},
   "outputs": [],
   "source": [
    "# Write your own code\n",
    "\n",
    "mean_Value = fifa23_players[\"Value(in Euro)\"].mean()\n",
    "\n",
    "fifa23_players_Value_above_mean = fifa23_players.query(\"`Value(in Euro)` > @mean_Value\")"
   ]
  },
  {
   "attachments": {},
   "cell_type": "markdown",
   "metadata": {},
   "source": [
    "<font size = \"5\">\n",
    "\n",
    "(c) Use sorting + \".iloc[]\"\n",
    "\n",
    "<font size = \"3\">\n",
    "\n",
    "- Use \".sort_values()\" to order the \"Age\" column <br>\n",
    "from youngest to oldest\n",
    "- Get a subset with the 5 youngest players"
   ]
  },
  {
   "cell_type": "code",
   "execution_count": 11,
   "metadata": {},
   "outputs": [
    {
     "data": {
      "text/html": [
       "<div>\n",
       "<style scoped>\n",
       "    .dataframe tbody tr th:only-of-type {\n",
       "        vertical-align: middle;\n",
       "    }\n",
       "\n",
       "    .dataframe tbody tr th {\n",
       "        vertical-align: top;\n",
       "    }\n",
       "\n",
       "    .dataframe thead th {\n",
       "        text-align: right;\n",
       "    }\n",
       "</style>\n",
       "<table border=\"1\" class=\"dataframe\">\n",
       "  <thead>\n",
       "    <tr style=\"text-align: right;\">\n",
       "      <th></th>\n",
       "      <th>Known As</th>\n",
       "      <th>Full Name</th>\n",
       "      <th>Overall</th>\n",
       "      <th>Potential</th>\n",
       "      <th>Value(in Euro)</th>\n",
       "      <th>Positions Played</th>\n",
       "      <th>Best Position</th>\n",
       "      <th>Nationality</th>\n",
       "      <th>Image Link</th>\n",
       "      <th>Age</th>\n",
       "      <th>...</th>\n",
       "      <th>Weak Foot Rating</th>\n",
       "      <th>Skill Moves</th>\n",
       "      <th>International Reputation</th>\n",
       "      <th>National Team Name</th>\n",
       "      <th>National Team Image Link</th>\n",
       "      <th>National Team Position</th>\n",
       "      <th>National Team Jersey Number</th>\n",
       "      <th>Attacking Work Rate</th>\n",
       "      <th>Defensive Work Rate</th>\n",
       "      <th>age_bracket</th>\n",
       "    </tr>\n",
       "  </thead>\n",
       "  <tbody>\n",
       "    <tr>\n",
       "      <th>17956</th>\n",
       "      <td>A. Dithmer</td>\n",
       "      <td>Andreas Dithmer</td>\n",
       "      <td>53</td>\n",
       "      <td>76</td>\n",
       "      <td>275000</td>\n",
       "      <td>GK</td>\n",
       "      <td>GK</td>\n",
       "      <td>Denmark</td>\n",
       "      <td>https://cdn.sofifa.net/players/269/573/23_60.png</td>\n",
       "      <td>16</td>\n",
       "      <td>...</td>\n",
       "      <td>2</td>\n",
       "      <td>1</td>\n",
       "      <td>1</td>\n",
       "      <td>-</td>\n",
       "      <td>https://cdn.sofifa.net/flags/dk.png</td>\n",
       "      <td>-</td>\n",
       "      <td>-</td>\n",
       "      <td>Medium</td>\n",
       "      <td>Medium</td>\n",
       "      <td>Less than 20</td>\n",
       "    </tr>\n",
       "    <tr>\n",
       "      <th>18014</th>\n",
       "      <td>J. Ardila</td>\n",
       "      <td>José Ardila</td>\n",
       "      <td>53</td>\n",
       "      <td>73</td>\n",
       "      <td>250000</td>\n",
       "      <td>CM</td>\n",
       "      <td>CAM</td>\n",
       "      <td>Venezuela</td>\n",
       "      <td>https://cdn.sofifa.net/players/268/892/23_60.png</td>\n",
       "      <td>16</td>\n",
       "      <td>...</td>\n",
       "      <td>3</td>\n",
       "      <td>2</td>\n",
       "      <td>1</td>\n",
       "      <td>-</td>\n",
       "      <td>https://cdn.sofifa.net/flags/ve.png</td>\n",
       "      <td>-</td>\n",
       "      <td>-</td>\n",
       "      <td>Medium</td>\n",
       "      <td>Medium</td>\n",
       "      <td>Less than 20</td>\n",
       "    </tr>\n",
       "    <tr>\n",
       "      <th>16084</th>\n",
       "      <td>S. Ngoma</td>\n",
       "      <td>Serge Ngoma</td>\n",
       "      <td>58</td>\n",
       "      <td>82</td>\n",
       "      <td>650000</td>\n",
       "      <td>RW</td>\n",
       "      <td>RM</td>\n",
       "      <td>United States</td>\n",
       "      <td>https://cdn.sofifa.net/players/267/796/23_60.png</td>\n",
       "      <td>16</td>\n",
       "      <td>...</td>\n",
       "      <td>3</td>\n",
       "      <td>2</td>\n",
       "      <td>1</td>\n",
       "      <td>-</td>\n",
       "      <td>https://cdn.sofifa.net/flags/us.png</td>\n",
       "      <td>-</td>\n",
       "      <td>-</td>\n",
       "      <td>High</td>\n",
       "      <td>Medium</td>\n",
       "      <td>Less than 20</td>\n",
       "    </tr>\n",
       "    <tr>\n",
       "      <th>11481</th>\n",
       "      <td>O. Vargas</td>\n",
       "      <td>Obed Vargas</td>\n",
       "      <td>64</td>\n",
       "      <td>81</td>\n",
       "      <td>1500000</td>\n",
       "      <td>CM,CDM,RM</td>\n",
       "      <td>CAM</td>\n",
       "      <td>United States</td>\n",
       "      <td>https://cdn.sofifa.net/players/263/701/23_60.png</td>\n",
       "      <td>16</td>\n",
       "      <td>...</td>\n",
       "      <td>3</td>\n",
       "      <td>3</td>\n",
       "      <td>1</td>\n",
       "      <td>-</td>\n",
       "      <td>https://cdn.sofifa.net/flags/us.png</td>\n",
       "      <td>-</td>\n",
       "      <td>-</td>\n",
       "      <td>High</td>\n",
       "      <td>Medium</td>\n",
       "      <td>Less than 20</td>\n",
       "    </tr>\n",
       "    <tr>\n",
       "      <th>17591</th>\n",
       "      <td>A. Madaliński</td>\n",
       "      <td>Alan Madaliński</td>\n",
       "      <td>54</td>\n",
       "      <td>68</td>\n",
       "      <td>210000</td>\n",
       "      <td>GK</td>\n",
       "      <td>GK</td>\n",
       "      <td>Poland</td>\n",
       "      <td>https://cdn.sofifa.net/players/270/590/23_60.png</td>\n",
       "      <td>16</td>\n",
       "      <td>...</td>\n",
       "      <td>3</td>\n",
       "      <td>1</td>\n",
       "      <td>1</td>\n",
       "      <td>-</td>\n",
       "      <td>https://cdn.sofifa.net/flags/pl.png</td>\n",
       "      <td>-</td>\n",
       "      <td>-</td>\n",
       "      <td>Medium</td>\n",
       "      <td>Medium</td>\n",
       "      <td>Less than 20</td>\n",
       "    </tr>\n",
       "  </tbody>\n",
       "</table>\n",
       "<p>5 rows × 33 columns</p>\n",
       "</div>"
      ],
      "text/plain": [
       "            Known As        Full Name  Overall  Potential  Value(in Euro)  \\\n",
       "17956     A. Dithmer  Andreas Dithmer       53         76          275000   \n",
       "18014      J. Ardila      José Ardila       53         73          250000   \n",
       "16084       S. Ngoma      Serge Ngoma       58         82          650000   \n",
       "11481      O. Vargas      Obed Vargas       64         81         1500000   \n",
       "17591  A. Madaliński  Alan Madaliński       54         68          210000   \n",
       "\n",
       "      Positions Played Best Position    Nationality  \\\n",
       "17956               GK            GK        Denmark   \n",
       "18014               CM           CAM      Venezuela   \n",
       "16084               RW            RM  United States   \n",
       "11481        CM,CDM,RM           CAM  United States   \n",
       "17591               GK            GK         Poland   \n",
       "\n",
       "                                             Image Link  Age  ...  \\\n",
       "17956  https://cdn.sofifa.net/players/269/573/23_60.png   16  ...   \n",
       "18014  https://cdn.sofifa.net/players/268/892/23_60.png   16  ...   \n",
       "16084  https://cdn.sofifa.net/players/267/796/23_60.png   16  ...   \n",
       "11481  https://cdn.sofifa.net/players/263/701/23_60.png   16  ...   \n",
       "17591  https://cdn.sofifa.net/players/270/590/23_60.png   16  ...   \n",
       "\n",
       "       Weak Foot Rating  Skill Moves  International Reputation  \\\n",
       "17956                 2            1                         1   \n",
       "18014                 3            2                         1   \n",
       "16084                 3            2                         1   \n",
       "11481                 3            3                         1   \n",
       "17591                 3            1                         1   \n",
       "\n",
       "       National Team Name             National Team Image Link  \\\n",
       "17956                   -  https://cdn.sofifa.net/flags/dk.png   \n",
       "18014                   -  https://cdn.sofifa.net/flags/ve.png   \n",
       "16084                   -  https://cdn.sofifa.net/flags/us.png   \n",
       "11481                   -  https://cdn.sofifa.net/flags/us.png   \n",
       "17591                   -  https://cdn.sofifa.net/flags/pl.png   \n",
       "\n",
       "       National Team Position  National Team Jersey Number  \\\n",
       "17956                       -                            -   \n",
       "18014                       -                            -   \n",
       "16084                       -                            -   \n",
       "11481                       -                            -   \n",
       "17591                       -                            -   \n",
       "\n",
       "      Attacking Work Rate Defensive Work Rate   age_bracket  \n",
       "17956              Medium              Medium  Less than 20  \n",
       "18014              Medium              Medium  Less than 20  \n",
       "16084                High              Medium  Less than 20  \n",
       "11481                High              Medium  Less than 20  \n",
       "17591              Medium              Medium  Less than 20  \n",
       "\n",
       "[5 rows x 33 columns]"
      ]
     },
     "execution_count": 11,
     "metadata": {},
     "output_type": "execute_result"
    }
   ],
   "source": [
    "# Write your own code\n",
    "\n",
    "fifa23_sorted_age = fifa23_players.sort_values(by = \"Age\", ascending = True)\n",
    "\n",
    "fifa23_sorted_age.iloc[:5,:]"
   ]
  },
  {
   "attachments": {},
   "cell_type": "markdown",
   "metadata": {},
   "source": [
    "<font size = \"5\">\n",
    "\n",
    "(d) Create a function with four inputs $f(y,x,b0,b1)$\n",
    "\n",
    "<font size = \"3\">\n",
    "\n",
    "$\\qquad e2 = (y - b_0 - b_1 * x)^2$\n",
    "\n",
    "- The function should return the mean of e2\n",
    "- This is the mean-square error (mse)\n",
    "- Call the function \"fn_mse\"\n",
    "- Let $y$ be the column \"Potential\"\n",
    "- Let $x$ be the column \"Age\" \n",
    "- Does <br>\n",
    "$\\qquad (b_0 = 80, b_1 = -1)$ or <br>\n",
    "$\\qquad (b_0 = 80, b_1 =-0.4)$ or <br>\n",
    "$\\qquad (b_0 = 80, b_1 = 1)$ <br>\n",
    "produce the lowest value of mse?\n"
   ]
  },
  {
   "cell_type": "code",
   "execution_count": 25,
   "metadata": {},
   "outputs": [
    {
     "name": "stdout",
     "output_type": "stream",
     "text": [
      "309.49360806947516\n",
      "36.98613301688329\n",
      "1247.2824855709584\n"
     ]
    }
   ],
   "source": [
    "# Write your own code\n",
    "\n",
    "def fn_mse(y, x, b0, b1):\n",
    "    '''\n",
    "    This function takes four inputs to compute the mean-square error of the prediction y = b1 * x + b0\n",
    "    \n",
    "    Inputs:\n",
    "        y: The predicted data\n",
    "        x: The independent data\n",
    "        b0, b1: two variables\n",
    "    \n",
    "    Output:\n",
    "        mean-square error (mse): the mean value of error sqaured\n",
    "    '''\n",
    "    \n",
    "    e2 = (y - b0 - b1 * x) ** 2\n",
    "    return e2.mean()\n",
    "\n",
    "print(fn_mse(fifa23_players[\"Potential\"], fifa23_players[\"Age\"], 80, -1))\n",
    "print(fn_mse(fifa23_players[\"Potential\"], fifa23_players[\"Age\"], 80, -0.4))\n",
    "print(fn_mse(fifa23_players[\"Potential\"], fifa23_players[\"Age\"], 80, 1))\n",
    "\n",
    "# The values (b0 = 80, b1 = 1) return the lowest value of mse."
   ]
  },
  {
   "attachments": {},
   "cell_type": "markdown",
   "metadata": {},
   "source": [
    "<font size = \"5\">\n",
    "\n",
    "(e) Split a dataset into subsets\n",
    "\n",
    "<font size = \"3\">\n",
    "\n",
    "- Create ``` list_status = [0,1]```\n",
    "- Create ``` list_prob = [0.5, 0.5]```\n",
    "- Create a new variable $n$ with the number of rows of the dataset\n",
    "- Use \n",
    "```python\n",
    "    np.random.choice(list_status,\n",
    "                     size = n,\n",
    "                     p = list_prob)\n",
    "```\n",
    "$\\qquad$ to create a new column called \"status\" <br>\n",
    "$\\qquad$ which randomly assigns each row to \"0\" or \"1\" <br>\n",
    "$\\qquad$ with equal probability\n",
    "- Use .query() to subset all observations with status == 0.<br>\n",
    "store it in a new dataset called \"data0\"\n",
    "- Use .query() to subset all observations with status == 1.<br>\n",
    "store it in a new dataset called \"data1\"\n",
    "\n"
   ]
  },
  {
   "cell_type": "code",
   "execution_count": 30,
   "metadata": {},
   "outputs": [],
   "source": [
    "# Write your own code\n",
    "\n",
    "np.random.seed(1234)\n",
    "\n",
    "list_status = [0, 1]\n",
    "list_prob = [0.5, 0.5]\n",
    "n = len(fifa23_players)\n",
    "\n",
    "fifa23_players[\"status\"] = np.random.choice(list_status, size = n, p = list_prob)\n",
    "\n",
    "data0 = fifa23_players.query(\"status == 0\")\n",
    "data1 = fifa23_players.query(\"status == 1\")"
   ]
  },
  {
   "attachments": {},
   "cell_type": "markdown",
   "metadata": {},
   "source": [
    "<font size = \"5\">\n",
    "\n",
    "(f) Create two overlapping histogram plots\n",
    "\n",
    "<font size = \"3\">\n",
    "\n",
    "- This function requires the two datasets you created in (e)\n",
    "- Display the distribution of \"Age\" for \"data0\" and \"data1\"\n",
    "- Use the \"alpha\" option to make the graphs semitransparent\n",
    "- You will need to add a legend, label the axes, and the title\n",
    "\n",
    "Note: The goal of this question is to illustrate that random <br>\n",
    "assignment produces very similar distributions between two groups"
   ]
  },
  {
   "cell_type": "code",
   "execution_count": 31,
   "metadata": {},
   "outputs": [
    {
     "data": {
      "image/png": "[encoded data removed]",
      "text/plain": [
       "<Figure size 640x480 with 1 Axes>"
      ]
     },
     "metadata": {},
     "output_type": "display_data"
    }
   ],
   "source": [
    "# Write your own code\n",
    "\n",
    "list_data = [data0, data1]\n",
    "\n",
    "for data in list_data:\n",
    "    plt.hist(data[\"Age\"], alpha = 0.5)\n",
    "\n",
    "plt.xlabel(\"Age\")\n",
    "plt.ylabel(\"Frequency\")\n",
    "plt.title(\"Histogram of the Distribution of Age of data0 and data1\")\n",
    "plt.legend(labels = [\"data0\", \"data1\"], title = \"Status\")\n",
    "plt.show()"
   ]
  },
  {
   "cell_type": "code",
   "execution_count": null,
   "metadata": {},
   "outputs": [],
   "source": []
  }
 ],
 "metadata": {
  "kernelspec": {
   "display_name": "base",
   "language": "python",
   "name": "python3"
  },
  "language_info": {
   "codemirror_mode": {
    "name": "ipython",
    "version": 3
   },
   "file_extension": ".py",
   "mimetype": "text/x-python",
   "name": "python",
   "nbconvert_exporter": "python",
   "pygments_lexer": "ipython3",
   "version": "3.9.13"
  },
  "orig_nbformat": 4,
  "vscode": {
   "interpreter": {
    "hash": "eb4fa49255c4ffd49ab8f6a8494673640d8eb08e0462b4ce9fd3bf3e69f7fc2a"
   }
  }
 },
 "nbformat": 4,
 "nbformat_minor": 2
}
