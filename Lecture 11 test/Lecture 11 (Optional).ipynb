{
 "cells": [
  {
   "attachments": {},
   "cell_type": "markdown",
   "metadata": {},
   "source": [
    "# <span style=\"color:darkblue\"> Lecture 11 (Optional): Regression Output </span>\n",
    "\n",
    "<font size = \"5\">\n",
    "\n",
    "This is an optional lecture file\n",
    "\n",
    "- This is only recommended if you've taken statistics courses \n",
    "- This lecture will not be formally evaluated\n",
    "- Keep this in material in mind for future courses\n"
   ]
  },
  {
   "attachments": {},
   "cell_type": "markdown",
   "metadata": {},
   "source": [
    "# <span style=\"color:darkblue\"> I. Import Libraries </span>\n"
   ]
  },
  {
   "cell_type": "code",
   "execution_count": 1,
   "metadata": {},
   "outputs": [],
   "source": [
    "# The \"pandas\" library is used for processing datasets\n",
    "# The \"numpy\" is for numeric observations and random numbers\n",
    "# The \"matplotlib.pyplot\" library is for creating graphs\n",
    "\n",
    "import pandas as pd\n",
    "import numpy as np\n",
    "import matplotlib.pyplot as plt"
   ]
  },
  {
   "attachments": {},
   "cell_type": "markdown",
   "metadata": {},
   "source": [
    "<font size = \"5\">\n",
    "\n",
    "Install the \"statsmodels\" library\n",
    "- Run \"pip3 install statsmodels\" in the terminal\n",
    "- Automatically included in Anaconda"
   ]
  },
  {
   "cell_type": "code",
   "execution_count": 2,
   "metadata": {},
   "outputs": [],
   "source": [
    "# We will \"alias\" two sublibraries in \"statsmodels\"\n",
    "# \"statsmodels.formula.api\" contains functions to estimate models\n",
    "# \"statsmodels.api\" contains general-use statistical options\n",
    "\n",
    "import statsmodels.api as sm\n",
    "import statsmodels.formula.api as smf\n",
    "from statsmodels.iolib.summary2 import summary_col"
   ]
  },
  {
   "attachments": {},
   "cell_type": "markdown",
   "metadata": {},
   "source": [
    "# <span style=\"color:darkblue\"> II. Generate Simulated Data </span>\n",
    "\n",
    "<font size = \"5\">\n",
    "\n",
    "Create an empty dataset"
   ]
  },
  {
   "cell_type": "code",
   "execution_count": 3,
   "metadata": {},
   "outputs": [],
   "source": [
    "dataset = pd.DataFrame([])"
   ]
  },
  {
   "attachments": {},
   "cell_type": "markdown",
   "metadata": {},
   "source": [
    "<font size = \"5\">\n",
    "\n",
    "Create three random variables of size ($n = 100$)"
   ]
  },
  {
   "cell_type": "code",
   "execution_count": 4,
   "metadata": {},
   "outputs": [],
   "source": [
    "n = 100\n",
    "dataset[\"x\"] = np.random.normal(loc = 0,scale = 1, size = n)\n",
    "dataset[\"z\"] = np.random.normal(loc = 0,scale = 1, size = n)\n",
    "dataset[\"e\"] = np.random.normal(loc = 0,scale = 1, size = n)"
   ]
  },
  {
   "attachments": {},
   "cell_type": "markdown",
   "metadata": {},
   "source": [
    "<font size = \"5\">\n",
    "\n",
    "Create discre random variable ($n = 100$)"
   ]
  },
  {
   "cell_type": "code",
   "execution_count": 5,
   "metadata": {},
   "outputs": [],
   "source": [
    "dataset[\"d\"] = np.random.choice(a = [1,2,3],\n",
    "                                size = n,\n",
    "                                p = [0.2,0.2,0.6])"
   ]
  },
  {
   "attachments": {},
   "cell_type": "markdown",
   "metadata": {},
   "source": [
    "<font size = \"5\">\n",
    "\n",
    "Create data from the linear model\n",
    "\n",
    "$ y = 2 + 5 x + e$"
   ]
  },
  {
   "cell_type": "code",
   "execution_count": 6,
   "metadata": {},
   "outputs": [],
   "source": [
    "# We can compute formulas directly over dataset columns\n",
    "dataset[\"y\"] =2 + 5* dataset[\"x\"] + dataset[\"e\"]"
   ]
  },
  {
   "attachments": {},
   "cell_type": "markdown",
   "metadata": {},
   "source": [
    "# <span style=\"color:darkblue\"> III. Regression Tables </span>\n"
   ]
  },
  {
   "attachments": {},
   "cell_type": "markdown",
   "metadata": {},
   "source": [
    "<font size = \"5\">\n",
    "\n",
    "Summaries for univariate regression"
   ]
  },
  {
   "cell_type": "code",
   "execution_count": 7,
   "metadata": {},
   "outputs": [
    {
     "name": "stdout",
     "output_type": "stream",
     "text": [
      "\n",
      "========================\n",
      "                   y    \n",
      "------------------------\n",
      "Intercept      2.0692***\n",
      "               (0.0979) \n",
      "x              4.8493***\n",
      "               (0.1069) \n",
      "R-squared      0.9546   \n",
      "R-squared Adj. 0.9541   \n",
      "========================\n",
      "Standard errors in\n",
      "parentheses.\n",
      "* p<.1, ** p<.05,\n",
      "***p<.01\n"
     ]
    }
   ],
   "source": [
    "# Run the model with multiple variables by using \"+\"\n",
    "results_univariate = smf.ols(formula = 'y ~ x',data = dataset).fit(cov = \"HC1\")\n",
    "\n",
    "# The \"summary_col\" functions produces nice outputs\n",
    "# We can add notation for significance by setting \"stars\" to True\n",
    "print(summary_col(results_univariate,\n",
    "                  stars = True))"
   ]
  },
  {
   "attachments": {},
   "cell_type": "markdown",
   "metadata": {},
   "source": [
    "<font size = \"5\">\n",
    "\n",
    "Summaries for multivariate regression"
   ]
  },
  {
   "cell_type": "code",
   "execution_count": 8,
   "metadata": {},
   "outputs": [
    {
     "name": "stdout",
     "output_type": "stream",
     "text": [
      "\n",
      "========================\n",
      "                   y    \n",
      "------------------------\n",
      "Intercept      2.0664***\n",
      "               (0.0983) \n",
      "x              4.8408***\n",
      "               (0.1081) \n",
      "z              -0.0618  \n",
      "               (0.1002) \n",
      "R-squared      0.9548   \n",
      "R-squared Adj. 0.9538   \n",
      "========================\n",
      "Standard errors in\n",
      "parentheses.\n",
      "* p<.1, ** p<.05,\n",
      "***p<.01\n"
     ]
    }
   ],
   "source": [
    "# Run the model with multiple variables by using \"+\"\n",
    "results_multivariate = smf.ols(formula = 'y ~ x + z',\n",
    "                               data = dataset).fit(cov = \"HC1\")\n",
    "print(summary_col(results_multivariate,\n",
    "                  stars = True))"
   ]
  },
  {
   "attachments": {},
   "cell_type": "markdown",
   "metadata": {},
   "source": [
    "<font size = \"5\">\n",
    "\n",
    "Summaries for multivariate regression + categories"
   ]
  },
  {
   "cell_type": "code",
   "execution_count": 9,
   "metadata": {},
   "outputs": [
    {
     "name": "stdout",
     "output_type": "stream",
     "text": [
      "\n",
      "========================\n",
      "                   y    \n",
      "------------------------\n",
      "Intercept      1.8997***\n",
      "               (0.2393) \n",
      "C(d)[T.2]      0.4072   \n",
      "               (0.3456) \n",
      "C(d)[T.3]      0.1591   \n",
      "               (0.2665) \n",
      "x              4.8513***\n",
      "               (0.1082) \n",
      "R-squared      0.9552   \n",
      "R-squared Adj. 0.9538   \n",
      "========================\n",
      "Standard errors in\n",
      "parentheses.\n",
      "* p<.1, ** p<.05,\n",
      "***p<.01\n"
     ]
    }
   ],
   "source": [
    "# Run the model with multiple variables by using \"+\"\n",
    "# This creates a set of distinct indicator variables for each category\n",
    "results_multivariate_category = smf.ols(formula = 'y ~ x + C(d)',\n",
    "                                        data = dataset).fit(cov = \"HC1\")\n",
    "\n",
    "# The results are reported with a base category, T.1\n",
    "print(summary_col(results_multivariate_category,\n",
    "                  stars = True))"
   ]
  },
  {
   "attachments": {},
   "cell_type": "markdown",
   "metadata": {},
   "source": [
    "<font size = \"5\">\n",
    "\n",
    "Summaries for multivariate regression + interaction"
   ]
  },
  {
   "cell_type": "code",
   "execution_count": 10,
   "metadata": {},
   "outputs": [
    {
     "name": "stdout",
     "output_type": "stream",
     "text": [
      "\n",
      "========================\n",
      "                   y    \n",
      "------------------------\n",
      "Intercept      2.0642***\n",
      "               (0.0995) \n",
      "x              4.8405***\n",
      "               (0.1086) \n",
      "z              -0.0579  \n",
      "               (0.1027) \n",
      "z:x            -0.0208  \n",
      "               (0.1058) \n",
      "R-squared      0.9548   \n",
      "R-squared Adj. 0.9534   \n",
      "========================\n",
      "Standard errors in\n",
      "parentheses.\n",
      "* p<.1, ** p<.05,\n",
      "***p<.01\n"
     ]
    }
   ],
   "source": [
    "# Run the model with multiple variables by using \"+\"\n",
    "# This creates a set of distinct indicator variables for each category\n",
    "results_multivariate_interaction = smf.ols(formula = 'y ~ x + z + z:x',\n",
    "                                        data = dataset).fit(cov = \"HC1\")\n",
    "\n",
    "# The results are reported with a base category, T.1\n",
    "print(summary_col(results_multivariate_interaction,\n",
    "                  stars = True))"
   ]
  },
  {
   "attachments": {},
   "cell_type": "markdown",
   "metadata": {},
   "source": [
    "# <span style=\"color:darkblue\"> IV. Professional Tables </span>\n"
   ]
  },
  {
   "attachments": {},
   "cell_type": "markdown",
   "metadata": {},
   "source": [
    "<font size = \"5\">\n",
    "\n",
    "Summaries for multiple columns"
   ]
  },
  {
   "cell_type": "code",
   "execution_count": 11,
   "metadata": {},
   "outputs": [
    {
     "name": "stdout",
     "output_type": "stream",
     "text": [
      "\n",
      "======================================================\n",
      "                  y I       y II     y III     y IIII \n",
      "------------------------------------------------------\n",
      "C(d)[T.2]                          0.4072             \n",
      "                                   (0.3456)           \n",
      "C(d)[T.3]                          0.1591             \n",
      "                                   (0.2665)           \n",
      "Intercept      2.0692*** 2.0664*** 1.8997*** 2.0642***\n",
      "               (0.0979)  (0.0983)  (0.2393)  (0.0995) \n",
      "R-squared      0.9546    0.9548    0.9552    0.9548   \n",
      "R-squared Adj. 0.9541    0.9538    0.9538    0.9534   \n",
      "x              4.8493*** 4.8408*** 4.8513*** 4.8405***\n",
      "               (0.1069)  (0.1081)  (0.1082)  (0.1086) \n",
      "z                        -0.0618             -0.0579  \n",
      "                         (0.1002)            (0.1027) \n",
      "z:x                                          -0.0208  \n",
      "                                             (0.1058) \n",
      "======================================================\n",
      "Standard errors in parentheses.\n",
      "* p<.1, ** p<.05, ***p<.01\n"
     ]
    }
   ],
   "source": [
    "list_results = [results_univariate,\n",
    "                results_multivariate,\n",
    "                results_multivariate_category,\n",
    "                results_multivariate_interaction]\n",
    "\n",
    "print(summary_col(list_results,\n",
    "                  stars = True))"
   ]
  },
  {
   "attachments": {},
   "cell_type": "markdown",
   "metadata": {},
   "source": [
    "<font size = \"5\">\n",
    "\n",
    "Summaries for multiple columns (sorted + titled + stats)"
   ]
  },
  {
   "cell_type": "code",
   "execution_count": 12,
   "metadata": {},
   "outputs": [
    {
     "name": "stdout",
     "output_type": "stream",
     "text": [
      "\n",
      "==============================================================\n",
      "               Univariate Multivariate Categorical Interaction\n",
      "--------------------------------------------------------------\n",
      "x              4.8493***  4.8408***    4.8513***   4.8405***  \n",
      "               (0.1069)   (0.1081)     (0.1082)    (0.1086)   \n",
      "z                         -0.0618                  -0.0579    \n",
      "                          (0.1002)                 (0.1027)   \n",
      "z:x                                                -0.0208    \n",
      "                                                   (0.1058)   \n",
      "C(d)[T.2]                              0.4072                 \n",
      "                                       (0.3456)               \n",
      "C(d)[T.3]                              0.1591                 \n",
      "                                       (0.2665)               \n",
      "Intercept      2.0692***  2.0664***    1.8997***   2.0642***  \n",
      "               (0.0979)   (0.0983)     (0.2393)    (0.0995)   \n",
      "R-squared      0.9546     0.9548       0.9552      0.9548     \n",
      "R-squared Adj. 0.9541     0.9538       0.9538      0.9534     \n",
      "N              100        100          100         100        \n",
      "==============================================================\n",
      "Standard errors in parentheses.\n",
      "* p<.1, ** p<.05, ***p<.01\n"
     ]
    }
   ],
   "source": [
    "# This list inputs the headings of the table\n",
    "list_headings   = [\"Univariate\",\n",
    "                   \"Multivariate\",\n",
    "                   \"Categorical\",\n",
    "                   \"Interaction\"]\n",
    "\n",
    "# This is the list of regressor names (if you want a particular order)\n",
    "list_regressors = [\"x\",\n",
    "                   \"z\",\n",
    "                   \"z:x\",\n",
    "                   \"C(d)[T.2]\",\n",
    "                   \"C(d)[T.3]\"]\n",
    "\n",
    "# This is a function that extracts the sample size\n",
    "# Can use with other summary statistics\n",
    "# \"nobs\" is the number of observations\n",
    "compute_summary = {'N':lambda model: format(int(model.nobs))}\n",
    "\n",
    "print(summary_col(list_results,\n",
    "                  stars = True,\n",
    "                  model_names = list_headings,\n",
    "                  info_dict={'N':lambda x: format(int(x.nobs))},\n",
    "                  regressor_order = [\"x\",\"z\",\"z:x\",\"C(d)[T.2]\",\"C(d)[T.3]\"]))"
   ]
  },
  {
   "attachments": {},
   "cell_type": "markdown",
   "metadata": {},
   "source": [
    "<font size = \"5\">\n",
    "\n",
    "Detailed table"
   ]
  },
  {
   "cell_type": "code",
   "execution_count": 13,
   "metadata": {},
   "outputs": [
    {
     "name": "stdout",
     "output_type": "stream",
     "text": [
      "                            OLS Regression Results                            \n",
      "==============================================================================\n",
      "Dep. Variable:                      y   R-squared:                       0.955\n",
      "Model:                            OLS   Adj. R-squared:                  0.954\n",
      "Method:                 Least Squares   F-statistic:                     2059.\n",
      "Date:                Wed, 22 Feb 2023   Prob (F-statistic):           1.32e-67\n",
      "Time:                        09:04:35   Log-Likelihood:                -138.04\n",
      "No. Observations:                 100   AIC:                             280.1\n",
      "Df Residuals:                      98   BIC:                             285.3\n",
      "Df Model:                           1                                         \n",
      "Covariance Type:            nonrobust                                         \n",
      "==============================================================================\n",
      "                 coef    std err          t      P>|t|      [0.025      0.975]\n",
      "------------------------------------------------------------------------------\n",
      "Intercept      2.0692      0.098     21.129      0.000       1.875       2.263\n",
      "x              4.8493      0.107     45.381      0.000       4.637       5.061\n",
      "==============================================================================\n",
      "Omnibus:                        5.464   Durbin-Watson:                   1.744\n",
      "Prob(Omnibus):                  0.065   Jarque-Bera (JB):                6.463\n",
      "Skew:                          -0.258   Prob(JB):                       0.0395\n",
      "Kurtosis:                       4.133   Cond. No.                         1.16\n",
      "==============================================================================\n",
      "\n",
      "Notes:\n",
      "[1] Standard Errors assume that the covariance matrix of the errors is correctly specified.\n"
     ]
    }
   ],
   "source": [
    "# Detailed Summary\n",
    "print(results_univariate.summary())"
   ]
  },
  {
   "cell_type": "code",
   "execution_count": null,
   "metadata": {},
   "outputs": [],
   "source": []
  }
 ],
 "metadata": {
  "kernelspec": {
   "display_name": "base",
   "language": "python",
   "name": "python3"
  },
  "language_info": {
   "codemirror_mode": {
    "name": "ipython",
    "version": 3
   },
   "file_extension": ".py",
   "mimetype": "text/x-python",
   "name": "python",
   "nbconvert_exporter": "python",
   "pygments_lexer": "ipython3",
   "version": "3.9.12"
  },
  "orig_nbformat": 4,
  "vscode": {
   "interpreter": {
    "hash": "eb4fa49255c4ffd49ab8f6a8494673640d8eb08e0462b4ce9fd3bf3e69f7fc2a"
   }
  }
 },
 "nbformat": 4,
 "nbformat_minor": 2
}
